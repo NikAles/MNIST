{
 "cells": [
  {
   "cell_type": "code",
   "execution_count": 106,
   "id": "e2402530",
   "metadata": {},
   "outputs": [],
   "source": [
    "from torch.utils.data import DataLoader\n",
    "import pandas as pd\n",
    "import numpy as np\n",
    "from torch import nn\n",
    "from torch.cuda import is_available\n",
    "from pathlib import Path\n",
    "from torchvision import transforms\n",
    "from torchvision.datasets import MNIST\n",
    "import matplotlib.pyplot as plt\n",
    "import torch\n",
    "from tqdm.auto import tqdm"
   ]
  },
  {
   "cell_type": "code",
   "execution_count": 58,
   "id": "6d743744",
   "metadata": {},
   "outputs": [],
   "source": [
    "train_path = Path(\"data/train\")\n",
    "test_path = Path(\"data/test\")"
   ]
  },
  {
   "cell_type": "code",
   "execution_count": 59,
   "id": "74a11b73",
   "metadata": {},
   "outputs": [],
   "source": [
    "trans = transforms.Compose([\n",
    "    transforms.ToTensor()\n",
    "])"
   ]
  },
  {
   "cell_type": "code",
   "execution_count": 96,
   "id": "96067028",
   "metadata": {},
   "outputs": [],
   "source": [
    "train_dataset = MNIST(root = train_path, train=True, download=True, transform=trans)\n",
    "test_dataset = MNIST(root = test_path, train=False, download=True, transform=trans)\n",
    "classes_names = train_dataset.classes"
   ]
  },
  {
   "cell_type": "code",
   "execution_count": 61,
   "id": "43de737a",
   "metadata": {},
   "outputs": [],
   "source": [
    "BATCH_SIZE = 32"
   ]
  },
  {
   "cell_type": "code",
   "execution_count": 62,
   "id": "8e47d909",
   "metadata": {},
   "outputs": [],
   "source": [
    "train_dataloader = DataLoader(train_dataset, batch_size=BATCH_SIZE, shuffle=True)\n",
    "test_dataloader = DataLoader(test_dataset, batch_size=BATCH_SIZE, shuffle=True)"
   ]
  },
  {
   "cell_type": "code",
   "execution_count": 63,
   "id": "0ced6fd6",
   "metadata": {},
   "outputs": [
    {
     "data": {
      "image/png": "[encoded data removed]",
      "text/plain": [
       "<Figure size 640x480 with 9 Axes>"
      ]
     },
     "metadata": {},
     "output_type": "display_data"
    }
   ],
   "source": [
    "img, label = next(iter(train_dataloader))\n",
    "label.shape, img.shape\n",
    "fig, ax = plt.subplots(3, 3)\n",
    "\n",
    "for i in range(3):\n",
    "    for j in range(3):\n",
    "        idx = i*3 + j \n",
    "        ax[i,j].imshow(img[idx].squeeze(), cmap='gray')\n",
    "        ax[i,j].set_title(label[idx].item())\n",
    "        ax[i,j].axis('off');\n"
   ]
  },
  {
   "cell_type": "code",
   "execution_count": 109,
   "id": "5f3177a4",
   "metadata": {},
   "outputs": [],
   "source": [
    "class TinyVGG(nn.Module):\n",
    "    def __init__(self, IN, UN, OUT):\n",
    "        super().__init__()\n",
    "\n",
    "        self.block_1 = nn.Sequential(\n",
    "            nn.Conv2d(in_channels=IN, \n",
    "                      out_channels=UN, \n",
    "                      kernel_size=3,\n",
    "                      stride=1, \n",
    "                      padding=1),\n",
    "            nn.ReLU(),\n",
    "            nn.Conv2d(in_channels=UN, \n",
    "                      out_channels=UN,\n",
    "                      kernel_size=3,\n",
    "                      stride=1,\n",
    "                      padding=1),\n",
    "            nn.ReLU(),\n",
    "            nn.MaxPool2d(kernel_size=2,\n",
    "                         stride=2) \n",
    "        )\n",
    "        self.block_2 = nn.Sequential(\n",
    "            nn.Conv2d(UN, UN, kernel_size=3, padding=1),\n",
    "            nn.ReLU(),\n",
    "            nn.Conv2d(UN, UN, kernel_size=3, padding=1),\n",
    "            nn.ReLU(),\n",
    "            nn.MaxPool2d(2)\n",
    "        )\n",
    "        self.classifier = nn.Sequential(\n",
    "            nn.Flatten(),\n",
    "            nn.Linear(in_features=UN*7*7, \n",
    "                      out_features=OUT)\n",
    "        )\n",
    "    \n",
    "    def forward(self, x: torch.Tensor):\n",
    "        x = self.block_1(x)\n",
    "        x = self.block_2(x)\n",
    "        x = self.classifier(x)\n",
    "        \n",
    "        return x"
   ]
  },
  {
   "cell_type": "code",
   "execution_count": 159,
   "id": "c862e885",
   "metadata": {},
   "outputs": [
    {
     "data": {
      "text/plain": [
       "TinyVGG(\n",
       "  (block_1): Sequential(\n",
       "    (0): Conv2d(1, 10, kernel_size=(3, 3), stride=(1, 1), padding=(1, 1))\n",
       "    (1): ReLU()\n",
       "    (2): Conv2d(10, 10, kernel_size=(3, 3), stride=(1, 1), padding=(1, 1))\n",
       "    (3): ReLU()\n",
       "    (4): MaxPool2d(kernel_size=2, stride=2, padding=0, dilation=1, ceil_mode=False)\n",
       "  )\n",
       "  (block_2): Sequential(\n",
       "    (0): Conv2d(10, 10, kernel_size=(3, 3), stride=(1, 1), padding=(1, 1))\n",
       "    (1): ReLU()\n",
       "    (2): Conv2d(10, 10, kernel_size=(3, 3), stride=(1, 1), padding=(1, 1))\n",
       "    (3): ReLU()\n",
       "    (4): MaxPool2d(kernel_size=2, stride=2, padding=0, dilation=1, ceil_mode=False)\n",
       "  )\n",
       "  (classifier): Sequential(\n",
       "    (0): Flatten(start_dim=1, end_dim=-1)\n",
       "    (1): Linear(in_features=490, out_features=10, bias=True)\n",
       "  )\n",
       ")"
      ]
     },
     "execution_count": 159,
     "metadata": {},
     "output_type": "execute_result"
    }
   ],
   "source": [
    "model = TinyVGG(IN=1, UN=10, OUT=len(classes_names))\n",
    "model"
   ]
  },
  {
   "cell_type": "code",
   "execution_count": 160,
   "id": "bbcc027d",
   "metadata": {},
   "outputs": [
    {
     "data": {
      "text/plain": [
       "torch.Size([1, 28, 28])"
      ]
     },
     "execution_count": 160,
     "metadata": {},
     "output_type": "execute_result"
    }
   ],
   "source": [
    "img[0].shape"
   ]
  },
  {
   "cell_type": "code",
   "execution_count": 161,
   "id": "84943d97",
   "metadata": {},
   "outputs": [],
   "source": [
    "def accuracy_fn(y_true, y_pred):\n",
    "    correct = torch.eq(y_true, y_pred).sum().item()\n",
    "    acc = (correct / len(y_pred)) * 100\n",
    "    return acc"
   ]
  },
  {
   "cell_type": "code",
   "execution_count": 162,
   "id": "2a1f8497",
   "metadata": {},
   "outputs": [],
   "source": [
    "loss_fn = nn.CrossEntropyLoss()\n",
    "optimizer = torch.optim.SGD(model.parameters(), \n",
    "                            lr=0.1)"
   ]
  },
  {
   "cell_type": "code",
   "execution_count": 163,
   "id": "fb2f31f8",
   "metadata": {},
   "outputs": [
    {
     "name": "stdout",
     "output_type": "stream",
     "text": [
      "Epoch: 0 | Batch: 0 | loss: 2.3143\n",
      "Epoch: 0 | Batch: 800 | loss: 0.1506\n",
      "Epoch: 0 | Batch: 1600 | loss: 0.0377\n",
      "Epoch: 0... Mean Loss: 0.2514 | Mean Acc: 91.72\n",
      "   TEST  Epoch: 0... Mean Loss: 0.0660 | Mean Acc: 97.76\n",
      "Epoch: 1 | Batch: 0 | loss: 0.0339\n",
      "Epoch: 1 | Batch: 800 | loss: 0.1844\n",
      "Epoch: 1 | Batch: 1600 | loss: 0.1021\n",
      "Epoch: 1... Mean Loss: 0.0697 | Mean Acc: 97.84\n",
      "   TEST  Epoch: 1... Mean Loss: 0.0448 | Mean Acc: 98.50\n",
      "Epoch: 2 | Batch: 0 | loss: 0.0252\n",
      "Epoch: 2 | Batch: 800 | loss: 0.0124\n",
      "Epoch: 2 | Batch: 1600 | loss: 0.0511\n",
      "Epoch: 2... Mean Loss: 0.0562 | Mean Acc: 98.22\n",
      "   TEST  Epoch: 2... Mean Loss: 0.0419 | Mean Acc: 98.56\n",
      "Epoch: 3 | Batch: 0 | loss: 0.0092\n",
      "Epoch: 3 | Batch: 800 | loss: 0.0073\n",
      "Epoch: 3 | Batch: 1600 | loss: 0.1319\n",
      "Epoch: 3... Mean Loss: 0.0486 | Mean Acc: 98.49\n",
      "   TEST  Epoch: 3... Mean Loss: 0.0411 | Mean Acc: 98.51\n",
      "Epoch: 4 | Batch: 0 | loss: 0.0238\n",
      "Epoch: 4 | Batch: 800 | loss: 0.0110\n",
      "Epoch: 4 | Batch: 1600 | loss: 0.0181\n",
      "Epoch: 4... Mean Loss: 0.0440 | Mean Acc: 98.62\n",
      "   TEST  Epoch: 4... Mean Loss: 0.0414 | Mean Acc: 98.69\n"
     ]
    }
   ],
   "source": [
    "epochs = 5\n",
    "\n",
    "for epoch in range(epochs):\n",
    "    loss_mean, acc_mean = 0, 0\n",
    "    for batch, (X, y) in enumerate(train_dataloader):\n",
    "        model.train()\n",
    "\n",
    "        y_pred = model(X)\n",
    "\n",
    "        loss = loss_fn(y_pred, y)\n",
    "\n",
    "        optimizer.zero_grad()\n",
    "\n",
    "        loss.backward()\n",
    "\n",
    "        optimizer.step()\n",
    "\n",
    "        loss_mean += loss.item()\n",
    "        acc_mean += accuracy_fn(y, y_pred.argmax(dim=1))\n",
    "\n",
    "        if batch%800 == 0:\n",
    "            print(f\"Epoch: {epoch} | Batch: {batch} | loss: {loss:.4f}\")\n",
    "    print(f\"Epoch: {epoch}... Mean Loss: {loss_mean/len(train_dataloader):.4f} | Mean Acc: {acc_mean/len(train_dataloader):.2f}\")\n",
    "\n",
    "    loss_mean, acc_mean = 0, 0\n",
    "    for batch, (X, y) in enumerate(test_dataloader):\n",
    "        model.eval()\n",
    "        with torch.inference_mode():\n",
    "            y_pred = model(X)\n",
    "\n",
    "        loss = loss_fn(y_pred, y)\n",
    "\n",
    "        loss_mean += loss.item()\n",
    "        acc_mean += accuracy_fn(y, y_pred.argmax(dim=1))\n",
    "        \n",
    "    print(f\"   TEST  Epoch: {epoch}... Mean Loss: {loss_mean/len(test_dataloader):.4f} | Mean Acc: {acc_mean/len(test_dataloader):.2f}\")\n",
    "\n",
    "            "
   ]
  },
  {
   "cell_type": "code",
   "execution_count": 171,
   "id": "bb326e08",
   "metadata": {},
   "outputs": [
    {
     "data": {
      "image/png": "[encoded data removed]",
      "text/plain": [
       "<Figure size 500x700 with 16 Axes>"
      ]
     },
     "metadata": {},
     "output_type": "display_data"
    }
   ],
   "source": [
    "img, label = next(iter(train_dataloader))\n",
    "label.shape, img.shape\n",
    "\n",
    "fig, ax = plt.subplots(4, 4, figsize=(5, 7))\n",
    "\n",
    "model.eval()\n",
    "with torch.inference_mode():\n",
    "    preds = model(img)\n",
    "\n",
    "for i in range(4):\n",
    "    for j in range(4):\n",
    "        idx = i*4 + j \n",
    "        ax[i,j].imshow(img[idx].squeeze(), cmap='gray')\n",
    "        ax[i,j].set_title(f\"True: {label[idx].item()}\\nPred: {torch.argmax(preds, dim=1)[idx]}\")\n",
    "        ax[i,j].axis('off');\n"
   ]
  },
  {
   "cell_type": "code",
   "execution_count": null,
   "id": "7614d742",
   "metadata": {},
   "outputs": [],
   "source": []
  }
 ],
 "metadata": {
  "kernelspec": {
   "display_name": ".venv313 (3.10.0)",
   "language": "python",
   "name": "python3"
  },
  "language_info": {
   "codemirror_mode": {
    "name": "ipython",
    "version": 3
   },
   "file_extension": ".py",
   "mimetype": "text/x-python",
   "name": "python",
   "nbconvert_exporter": "python",
   "pygments_lexer": "ipython3",
   "version": "3.10.0"
  }
 },
 "nbformat": 4,
 "nbformat_minor": 5
}
